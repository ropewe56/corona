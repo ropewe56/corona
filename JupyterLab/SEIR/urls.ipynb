{
 "cells": [
  {
   "cell_type": "markdown",
   "metadata": {},
   "source": [
    "https://www.coronavirus.jetzt/\n",
    "\n",
    "https://www.rki.de/DE/Home/homepage_node.html\n",
    "\n",
    "https://www.rki.de/DE/Content/InfAZ/N/Neuartiges_Coronavirus/Situationsberichte/Archiv.html\n",
    "\n",
    "https://www.rki.de/DE/Content/InfAZ/N/Neuartiges_Coronavirus/Situationsberichte/Gesamt.html\n",
    "\n",
    "https://experience.arcgis.com/experience/478220a4c454480e823b17327b2bf1d4\n",
    "\n",
    "\n",
    "https://necsi.edu/review-of-ferguson-et-al-impact-of-non-pharmaceutical-interventions\n",
    "\n"
   ]
  }
 ],
 "metadata": {
  "kernelspec": {
   "display_name": "Python 3",
   "language": "python",
   "name": "python3"
  },
  "language_info": {
   "codemirror_mode": {
    "name": "ipython",
    "version": 3
   },
   "file_extension": ".py",
   "mimetype": "text/x-python",
   "name": "python",
   "nbconvert_exporter": "python",
   "pygments_lexer": "ipython3",
   "version": "3.7.4"
  }
 },
 "nbformat": 4,
 "nbformat_minor": 4
}
